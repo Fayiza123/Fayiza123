{
 "cells": [
  {
   "cell_type": "code",
   "execution_count": 1,
   "id": "b6a0ae4a-7f2f-46c6-a3c6-b3a88060fa34",
   "metadata": {},
   "outputs": [
    {
     "name": "stdout",
     "output_type": "stream",
     "text": [
      "Hello, World!\n",
      "Welcome to python programming\n"
     ]
    }
   ],
   "source": [
    "print(\"Hello, World!\")\n",
    "print(\"Welcome to python programming\")"
   ]
  },
  {
   "cell_type": "code",
   "execution_count": 7,
   "id": "fd20e287-425d-4560-b0db-b02af4d07831",
   "metadata": {},
   "outputs": [
    {
     "name": "stdout",
     "output_type": "stream",
     "text": [
      "<class 'int'>\n",
      "<class 'float'>\n",
      "<class 'str'>\n",
      "a+b = 15.5\n",
      "python is fun\n"
     ]
    }
   ],
   "source": [
    "a=10\n",
    "b=5.5\n",
    "c=\"python\"\n",
    "print(type(a))\n",
    "print(type(b))\n",
    "print(type(c))\n",
    "\n",
    "print(\"a+b =\",a+b)\n",
    "print(c + \" is fun\")"
   ]
  },
  {
   "cell_type": "code",
   "execution_count": 10,
   "id": "c4e56c67-d03f-4048-8ba7-0f6d0c8b3337",
   "metadata": {},
   "outputs": [
    {
     "name": "stdin",
     "output_type": "stream",
     "text": [
      "Enter a number: 6\n",
      "Enter a number: 3\n"
     ]
    },
    {
     "name": "stdout",
     "output_type": "stream",
     "text": [
      "Sum =  9\n",
      "Difference =  3\n",
      "Product =  18\n",
      "Division =  2.0\n",
      "Floor division =  2\n",
      "Modulo =  0\n",
      "Exponentiation =  216\n"
     ]
    }
   ],
   "source": [
    "a = int(input(\"Enter a number:\"))\n",
    "b = int(input(\"Enter a number:\"))\n",
    "print(\"Sum = \",a+b)\n",
    "print(\"Difference = \",a-b)\n",
    "print(\"Product = \",a*b)\n",
    "print(\"Division = \",a/b)\n",
    "print(\"Floor division = \",a//b)\n",
    "print(\"Modulo = \",a%b)\n",
    "print(\"Exponentiation = \",a**b)"
   ]
  },
  {
   "cell_type": "code",
   "execution_count": 15,
   "id": "f7fef715-abbb-4b3f-81ec-7835c5a017be",
   "metadata": {},
   "outputs": [
    {
     "name": "stdout",
     "output_type": "stream",
     "text": [
      "You can go outside.\n",
      "No need to carry an umbrella.\n"
     ]
    }
   ],
   "source": [
    "is_sunny = True\n",
    "have_umbrella = False\n",
    "\n",
    "if is_sunny or have_umbrella:\n",
    "    print(\"You can go outside.\")\n",
    "else:\n",
    "    print(\"You should stay inside.\")\n",
    "\n",
    "if not is_sunny:\n",
    "    print(\"You should carry an umbrella.\")\n",
    "else:\n",
    "    print(\"No need to carry an umbrella.\")"
   ]
  },
  {
   "cell_type": "code",
   "execution_count": 23,
   "id": "8a704848-a7c0-47ed-8ec4-580b1f762f07",
   "metadata": {},
   "outputs": [
    {
     "name": "stdin",
     "output_type": "stream",
     "text": [
      "Enter a sentence: python is fun\n"
     ]
    },
    {
     "name": "stdout",
     "output_type": "stream",
     "text": [
      "The string python is fun have 13 characters.\n",
      "PYTHON IS FUN\n",
      "python is fun\n",
      "python_is_fun\n",
      "python is present in the sentence.\n"
     ]
    }
   ],
   "source": [
    "s = input(\"Enter a sentence:\")\n",
    "char_count = len(s)\n",
    "print(f\"The string {s} have {char_count} characters.\")\n",
    "\n",
    "uppercase = s.upper()\n",
    "lowercase = s.lower()\n",
    "print(uppercase)\n",
    "print(lowercase)\n",
    "\n",
    "new_string = s.replace(\" \",\"_\")\n",
    "print(new_string)\n",
    "\n",
    "word = \"python\"\n",
    "\n",
    "if word in s:\n",
    "   print(f\"{word} is present in the sentence.\")\n",
    "else:\n",
    "   print(f\"{word} is not present in the senternce.\")"
   ]
  },
  {
   "cell_type": "code",
   "execution_count": 30,
   "id": "4f7a8a2b-f1b7-40e8-8843-08f75e26d9ce",
   "metadata": {},
   "outputs": [
    {
     "name": "stdin",
     "output_type": "stream",
     "text": [
      "Enter a number: 3\n"
     ]
    },
    {
     "name": "stdout",
     "output_type": "stream",
     "text": [
      "positive number.\n"
     ]
    }
   ],
   "source": [
    "a = int(input(\"Enter a number:\"))\n",
    "if (a>0):\n",
    "    print(\"positive number.\")\n",
    "elif (a==0):\n",
    "    print(\"Number is zero.\")\n",
    "else:\n",
    "    print(\"Negative number.\")"
   ]
  },
  {
   "cell_type": "code",
   "execution_count": 33,
   "id": "2f263c77-ad24-42fa-b866-a1bc08d07ae7",
   "metadata": {},
   "outputs": [
    {
     "name": "stdin",
     "output_type": "stream",
     "text": [
      "Enter your mark: 79\n"
     ]
    },
    {
     "name": "stdout",
     "output_type": "stream",
     "text": [
      "grade B\n"
     ]
    }
   ],
   "source": [
    "mark = int(input(\"Enter your mark:\"))\n",
    "if mark>=90:\n",
    "    print(\"Grade A\")\n",
    "elif mark>=75 and mark<=89:\n",
    "    print(\"grade B\")\n",
    "elif mark>=60 and mark<=74:\n",
    "    print(\"Grade C\")\n",
    "elif mark>=40 and mark<=59:\n",
    "    print(\"grade D\")\n",
    "else:\n",
    "    print(\"Fail\")"
   ]
  },
  {
   "cell_type": "code",
   "execution_count": 43,
   "id": "162d536c-fa5a-4d9c-a511-d59e09ba43bf",
   "metadata": {},
   "outputs": [
    {
     "name": "stdin",
     "output_type": "stream",
     "text": [
      "Enter first number: 6\n",
      "Enter second number: 3\n",
      "Enter operation(+,-,*,/): /\n"
     ]
    },
    {
     "name": "stdout",
     "output_type": "stream",
     "text": [
      "Result: 2.0\n"
     ]
    }
   ],
   "source": [
    "a = int(input(\"Enter first number:\"))\n",
    "b = int(input(\"Enter second number:\"))\n",
    "operation = input(\"Enter operation(+,-,*,/):\")\n",
    "\n",
    "if operation == '+':\n",
    "    r = a+b\n",
    "    print(\"Result\",r)\n",
    "elif operation == '-':\n",
    "    r = a-b\n",
    "    print(\"Result=\",r)\n",
    "elif operation == '*':\n",
    "    r = a*b\n",
    "    print(\"result=\",r)\n",
    "elif operation == '/':\n",
    "    if b!=0:\n",
    "        r = a/b\n",
    "        print(\"Result:\",r)\n",
    "    else:\n",
    "        print(\"Division by zero not possible.\")\n",
    "else:\n",
    "    print(\"Invalid operator\")"
   ]
  },
  {
   "cell_type": "code",
   "execution_count": null,
   "id": "9891adfd-1025-487f-9992-e29635c3e101",
   "metadata": {},
   "outputs": [],
   "source": []
  },
  {
   "cell_type": "code",
   "execution_count": null,
   "id": "cbc42fc1-f5fe-44e3-b937-359b38609fb4",
   "metadata": {},
   "outputs": [],
   "source": []
  },
  {
   "cell_type": "code",
   "execution_count": null,
   "id": "cabcb811-fea0-46de-baa4-bf55949dc2f5",
   "metadata": {},
   "outputs": [],
   "source": []
  }
 ],
 "metadata": {
  "kernelspec": {
   "display_name": "Python 3 (ipykernel)",
   "language": "python",
   "name": "python3"
  },
  "language_info": {
   "codemirror_mode": {
    "name": "ipython",
    "version": 3
   },
   "file_extension": ".py",
   "mimetype": "text/x-python",
   "name": "python",
   "nbconvert_exporter": "python",
   "pygments_lexer": "ipython3",
   "version": "3.10.12"
  }
 },
 "nbformat": 4,
 "nbformat_minor": 5
}
